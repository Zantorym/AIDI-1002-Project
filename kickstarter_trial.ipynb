{
  "nbformat": 4,
  "nbformat_minor": 0,
  "metadata": {
    "colab": {
      "name": "kickstarter_trial.ipynb",
      "provenance": [],
      "authorship_tag": "ABX9TyPO5okkoDxkHw5GIEHQyIhc",
      "include_colab_link": true
    },
    "kernelspec": {
      "name": "python3",
      "display_name": "Python 3"
    },
    "language_info": {
      "name": "python"
    }
  },
  "cells": [
    {
      "cell_type": "markdown",
      "metadata": {
        "id": "view-in-github",
        "colab_type": "text"
      },
      "source": [
        "<a href=\"https://colab.research.google.com/github/Zantorym/AIDI-1002-Project/blob/main/kickstarter_trial.ipynb\" target=\"_parent\"><img src=\"https://colab.research.google.com/assets/colab-badge.svg\" alt=\"Open In Colab\"/></a>"
      ]
    },
    {
      "cell_type": "code",
      "metadata": {
        "id": "WKSkw0lg73pL"
      },
      "source": [
        "\"\"\"Kickstarter_trial\n",
        "\"\"\"\n",
        "import pandas as pd\n",
        "import seaborn as sns\n",
        "import numpy as np\n",
        "import matplotlib.pyplot as plt\n",
        "from sklearn.metrics import accuracy_score\n",
        "from sklearn.neighbors import KNeighborsClassifier\n",
        "from sklearn.tree import DecisionTreeClassifier\n",
        "from sklearn.linear_model import LinearRegression\n",
        "from sklearn.ensemble import RandomForestClassifier, GradientBoostingClassifier\n",
        "from sklearn.naive_bayes import GaussianNB\n",
        "from sklearn.model_selection import train_test_split\n",
        "from sklearn import preprocessing\n",
        "import warnings\n",
        "warnings.simplefilter('ignore', UserWarning)"
      ],
      "execution_count": 2,
      "outputs": []
    },
    {
      "cell_type": "code",
      "metadata": {
        "colab": {
          "base_uri": "https://localhost:8080/"
        },
        "id": "8vvW_QyF8zYX",
        "outputId": "dd015d2f-2385-49b2-d92a-cb35628c0eef"
      },
      "source": [
        "# read the data from ks-projects-201801.csv - 378,661 projects.\n",
        "dataframe = pd.read_csv('/content/ks-projects-201801.csv')\n",
        "\n",
        "# show information and data types of the data attributes.\n",
        "dataframe.info()"
      ],
      "execution_count": 3,
      "outputs": [
        {
          "output_type": "stream",
          "name": "stdout",
          "text": [
            "<class 'pandas.core.frame.DataFrame'>\n",
            "RangeIndex: 378661 entries, 0 to 378660\n",
            "Data columns (total 15 columns):\n",
            " #   Column            Non-Null Count   Dtype  \n",
            "---  ------            --------------   -----  \n",
            " 0   ID                378661 non-null  int64  \n",
            " 1   name              378657 non-null  object \n",
            " 2   category          378661 non-null  object \n",
            " 3   main_category     378661 non-null  object \n",
            " 4   currency          378661 non-null  object \n",
            " 5   deadline          378661 non-null  object \n",
            " 6   goal              378661 non-null  float64\n",
            " 7   launched          378661 non-null  object \n",
            " 8   pledged           378661 non-null  float64\n",
            " 9   state             378661 non-null  object \n",
            " 10  backers           378661 non-null  int64  \n",
            " 11  country           378661 non-null  object \n",
            " 12  usd pledged       374864 non-null  float64\n",
            " 13  usd_pledged_real  378661 non-null  float64\n",
            " 14  usd_goal_real     378661 non-null  float64\n",
            "dtypes: float64(5), int64(2), object(8)\n",
            "memory usage: 43.3+ MB\n"
          ]
        }
      ]
    },
    {
      "cell_type": "code",
      "metadata": {
        "colab": {
          "base_uri": "https://localhost:8080/"
        },
        "id": "q81uwhhO89tb",
        "outputId": "4a580146-0498-414d-e448-a88b6d623f5e"
      },
      "source": [
        "dataframe.head"
      ],
      "execution_count": 4,
      "outputs": [
        {
          "output_type": "execute_result",
          "data": {
            "text/plain": [
              "<bound method NDFrame.head of                 ID  ... usd_goal_real\n",
              "0       1000002330  ...       1533.95\n",
              "1       1000003930  ...      30000.00\n",
              "2       1000004038  ...      45000.00\n",
              "3       1000007540  ...       5000.00\n",
              "4       1000011046  ...      19500.00\n",
              "...            ...  ...           ...\n",
              "378656   999976400  ...      50000.00\n",
              "378657   999977640  ...       1500.00\n",
              "378658   999986353  ...      15000.00\n",
              "378659   999987933  ...      15000.00\n",
              "378660   999988282  ...       2000.00\n",
              "\n",
              "[378661 rows x 15 columns]>"
            ]
          },
          "metadata": {},
          "execution_count": 4
        }
      ]
    },
    {
      "cell_type": "code",
      "metadata": {
        "colab": {
          "base_uri": "https://localhost:8080/"
        },
        "id": "-NRlXmlO8-5h",
        "outputId": "6b8439fd-009f-4922-dca7-fdbb7e164cd6"
      },
      "source": [
        "dataframe[\"state\"].unique()"
      ],
      "execution_count": 5,
      "outputs": [
        {
          "output_type": "execute_result",
          "data": {
            "text/plain": [
              "array(['failed', 'canceled', 'successful', 'live', 'undefined',\n",
              "       'suspended'], dtype=object)"
            ]
          },
          "metadata": {},
          "execution_count": 5
        }
      ]
    },
    {
      "cell_type": "code",
      "metadata": {
        "colab": {
          "base_uri": "https://localhost:8080/"
        },
        "id": "XmDOHk869AQg",
        "outputId": "0ba08730-edd7-42a3-f4e9-fbe560c9de2e"
      },
      "source": [
        "# projects state ratio\n",
        "(dataframe['state'].value_counts()/len(dataframe))*100"
      ],
      "execution_count": 6,
      "outputs": [
        {
          "output_type": "execute_result",
          "data": {
            "text/plain": [
              "failed        52.215306\n",
              "successful    35.376234\n",
              "canceled      10.241086\n",
              "undefined      0.940683\n",
              "live           0.739184\n",
              "suspended      0.487507\n",
              "Name: state, dtype: float64"
            ]
          },
          "metadata": {},
          "execution_count": 6
        }
      ]
    },
    {
      "cell_type": "code",
      "metadata": {
        "colab": {
          "base_uri": "https://localhost:8080/",
          "height": 512
        },
        "id": "vCjKUjkD9DuJ",
        "outputId": "d06119b1-8110-46e7-a4fd-349c539cdcb1"
      },
      "source": [
        "# plot state distribution.\n",
        "sns.catplot('state',data=dataframe,kind='count', height=6)"
      ],
      "execution_count": 7,
      "outputs": [
        {
          "output_type": "stream",
          "name": "stderr",
          "text": [
            "/usr/local/lib/python3.7/dist-packages/seaborn/_decorators.py:43: FutureWarning: Pass the following variable as a keyword arg: x. From version 0.12, the only valid positional argument will be `data`, and passing other arguments without an explicit keyword will result in an error or misinterpretation.\n",
            "  FutureWarning\n"
          ]
        },
        {
          "output_type": "execute_result",
          "data": {
            "text/plain": [
              "<seaborn.axisgrid.FacetGrid at 0x7f56d0b1ce90>"
            ]
          },
          "metadata": {},
          "execution_count": 7
        },
        {
          "output_type": "display_data",
          "data": {
            "image/png": "[encoded data removed]",
            "text/plain": [
              "<Figure size 432x432 with 1 Axes>"
            ]
          },
          "metadata": {
            "needs_background": "light"
          }
        }
      ]
    },
    {
      "cell_type": "code",
      "metadata": {
        "colab": {
          "base_uri": "https://localhost:8080/",
          "height": 399
        },
        "id": "_E0_DwO99ivj",
        "outputId": "8c4f9103-1662-4376-ecc9-cb310175d58a"
      },
      "source": [
        "# num of launched projects per day of week \n",
        "dataframe.groupby([(pd.to_datetime(dataframe.launched).dt.strftime(\"%A\"))]).size().plot(kind='bar',figsize=(10,5))"
      ],
      "execution_count": 8,
      "outputs": [
        {
          "output_type": "execute_result",
          "data": {
            "text/plain": [
              "<matplotlib.axes._subplots.AxesSubplot at 0x7f56ac7a4210>"
            ]
          },
          "metadata": {},
          "execution_count": 8
        },
        {
          "output_type": "display_data",
          "data": {
            "image/png": "[encoded data removed]",
            "text/plain": [
              "<Figure size 720x360 with 1 Axes>"
            ]
          },
          "metadata": {
            "needs_background": "light"
          }
        }
      ]
    },
    {
      "cell_type": "code",
      "metadata": {
        "colab": {
          "base_uri": "https://localhost:8080/"
        },
        "id": "J0xH0kU09k5o",
        "outputId": "488e706e-b192-492b-88c2-717060215108"
      },
      "source": [
        "# total projects per year\n",
        "dataframe.groupby([(pd.to_datetime(dataframe.launched).dt.year)]).size()"
      ],
      "execution_count": 9,
      "outputs": [
        {
          "output_type": "execute_result",
          "data": {
            "text/plain": [
              "launched\n",
              "1970        7\n",
              "2009     1329\n",
              "2010    10519\n",
              "2011    26237\n",
              "2012    41165\n",
              "2013    44851\n",
              "2014    67745\n",
              "2015    77300\n",
              "2016    57184\n",
              "2017    52200\n",
              "2018      124\n",
              "dtype: int64"
            ]
          },
          "metadata": {},
          "execution_count": 9
        }
      ]
    },
    {
      "cell_type": "code",
      "metadata": {
        "colab": {
          "base_uri": "https://localhost:8080/",
          "height": 351
        },
        "id": "BHz0yryc9oPt",
        "outputId": "7b9e8657-3de7-4f12-c4d3-a9f749f2042f"
      },
      "source": [
        "dataframe.groupby([(pd.to_datetime(dataframe.launched).dt.year)]).size().plot(figsize=(10,5))"
      ],
      "execution_count": 10,
      "outputs": [
        {
          "output_type": "execute_result",
          "data": {
            "text/plain": [
              "<matplotlib.axes._subplots.AxesSubplot at 0x7f56ade30950>"
            ]
          },
          "metadata": {},
          "execution_count": 10
        },
        {
          "output_type": "display_data",
          "data": {
            "image/png": "[encoded data removed]",
            "text/plain": [
              "<Figure size 720x360 with 1 Axes>"
            ]
          },
          "metadata": {
            "needs_background": "light"
          }
        }
      ]
    },
    {
      "cell_type": "code",
      "metadata": {
        "colab": {
          "base_uri": "https://localhost:8080/",
          "height": 351
        },
        "id": "hUbVt_OU9rxh",
        "outputId": "3328fe03-e648-4207-abf8-e17eeff9510b"
      },
      "source": [
        "# i will reduce datapoints to get more clean data\n",
        "start_date = '2013-01-01'\n",
        "dataframe = dataframe[dataframe['launched'] >= start_date]\n",
        "dataframe.groupby([(pd.to_datetime(dataframe.launched).dt.year)]).size().plot(figsize=(10,5))"
      ],
      "execution_count": 11,
      "outputs": [
        {
          "output_type": "execute_result",
          "data": {
            "text/plain": [
              "<matplotlib.axes._subplots.AxesSubplot at 0x7f56ade21d50>"
            ]
          },
          "metadata": {},
          "execution_count": 11
        },
        {
          "output_type": "display_data",
          "data": {
            "image/png": "[encoded data removed]",
            "text/plain": [
              "<Figure size 720x360 with 1 Axes>"
            ]
          },
          "metadata": {
            "needs_background": "light"
          }
        }
      ]
    },
    {
      "cell_type": "code",
      "metadata": {
        "colab": {
          "base_uri": "https://localhost:8080/"
        },
        "id": "um9FUe9C9uc9",
        "outputId": "a5215765-8aab-4ef6-aa42-b94d2c6bc74c"
      },
      "source": [
        "# average pledged amount in USD\n",
        "round(dataframe['usd_pledged_real'].mean())"
      ],
      "execution_count": 12,
      "outputs": [
        {
          "output_type": "execute_result",
          "data": {
            "text/plain": [
              "9926"
            ]
          },
          "metadata": {},
          "execution_count": 12
        }
      ]
    },
    {
      "cell_type": "code",
      "metadata": {
        "colab": {
          "base_uri": "https://localhost:8080/"
        },
        "id": "lofarSDa91vB",
        "outputId": "1839357c-0a30-437c-9217-a32aca07da2a"
      },
      "source": [
        "# average backers\n",
        "int(dataframe['backers'].mean())"
      ],
      "execution_count": 13,
      "outputs": [
        {
          "output_type": "execute_result",
          "data": {
            "text/plain": [
              "112"
            ]
          },
          "metadata": {},
          "execution_count": 13
        }
      ]
    },
    {
      "cell_type": "code",
      "metadata": {
        "colab": {
          "base_uri": "https://localhost:8080/"
        },
        "id": "seB8sGdJ96gh",
        "outputId": "d990bb45-bf88-4633-eed4-f84480e0145c"
      },
      "source": [
        "# average projects goal in usd\n",
        "round(dataframe['usd_goal_real'].mean())"
      ],
      "execution_count": 14,
      "outputs": [
        {
          "output_type": "execute_result",
          "data": {
            "text/plain": [
              "53155"
            ]
          },
          "metadata": {},
          "execution_count": 14
        }
      ]
    },
    {
      "cell_type": "code",
      "metadata": {
        "colab": {
          "base_uri": "https://localhost:8080/",
          "height": 308
        },
        "id": "funHP6Ak9-dN",
        "outputId": "2b3bcbd0-b180-4266-80aa-2f2a22f3108f"
      },
      "source": [
        "# heat map of average backers by country and main_category\n",
        "pivot_table = dataframe.pivot_table(index='main_category', \n",
        "                   columns='country', \n",
        "                   values='backers', \n",
        "                   aggfunc='mean')\n",
        "sns.heatmap(pivot_table)"
      ],
      "execution_count": 15,
      "outputs": [
        {
          "output_type": "execute_result",
          "data": {
            "text/plain": [
              "<matplotlib.axes._subplots.AxesSubplot at 0x7f56add3ee50>"
            ]
          },
          "metadata": {},
          "execution_count": 15
        },
        {
          "output_type": "display_data",
          "data": {
            "image/png": "[encoded data removed]",
            "text/plain": [
              "<Figure size 432x288 with 2 Axes>"
            ]
          },
          "metadata": {
            "needs_background": "light"
          }
        }
      ]
    },
    {
      "cell_type": "code",
      "metadata": {
        "id": "Z8eIegTa-BPH"
      },
      "source": [
        "# for the prediction purpose, i will filter the data\n",
        "# to have only successful and failed projects.\n",
        "dataframe = dataframe.loc[dataframe['state'].isin(['successful', 'failed'])]"
      ],
      "execution_count": 16,
      "outputs": []
    },
    {
      "cell_type": "code",
      "metadata": {
        "colab": {
          "base_uri": "https://localhost:8080/"
        },
        "id": "DZnsjAbZ-FKz",
        "outputId": "8322ea79-6736-48bb-dca6-fa5be8af092f"
      },
      "source": [
        "# projects main category ratio\n",
        "(dataframe['main_category'].value_counts()/len(dataframe))*100"
      ],
      "execution_count": 17,
      "outputs": [
        {
          "output_type": "execute_result",
          "data": {
            "text/plain": [
              "Film & Video    14.267193\n",
              "Music           11.126592\n",
              "Publishing      10.715585\n",
              "Technology       9.934208\n",
              "Games            9.722125\n",
              "Design           8.777429\n",
              "Food             7.549054\n",
              "Art              7.472812\n",
              "Fashion          6.801347\n",
              "Comics           3.088742\n",
              "Crafts           2.844150\n",
              "Photography      2.834088\n",
              "Theater          2.525253\n",
              "Journalism       1.368087\n",
              "Dance            0.973335\n",
              "Name: main_category, dtype: float64"
            ]
          },
          "metadata": {},
          "execution_count": 17
        }
      ]
    },
    {
      "cell_type": "code",
      "metadata": {
        "colab": {
          "base_uri": "https://localhost:8080/",
          "height": 320
        },
        "id": "BKf6RXyx-Gx7",
        "outputId": "3f04f467-2652-4637-8441-1f38785b4fdd"
      },
      "source": [
        "# plot main category ratio distibution\n",
        "(dataframe['main_category'].value_counts()/len(dataframe)).plot.pie(y='mass', figsize=(5, 5))"
      ],
      "execution_count": 18,
      "outputs": [
        {
          "output_type": "execute_result",
          "data": {
            "text/plain": [
              "<matplotlib.axes._subplots.AxesSubplot at 0x7f56adca58d0>"
            ]
          },
          "metadata": {},
          "execution_count": 18
        },
        {
          "output_type": "display_data",
          "data": {
            "image/png": "[encoded data removed]",
            "text/plain": [
              "<Figure size 360x360 with 1 Axes>"
            ]
          },
          "metadata": {}
        }
      ]
    },
    {
      "cell_type": "code",
      "metadata": {
        "colab": {
          "base_uri": "https://localhost:8080/"
        },
        "id": "Sr_y61UA-ICy",
        "outputId": "efd3738b-4fa3-41d9-b8e9-cdd401511c9f"
      },
      "source": [
        "# count projects by country\n",
        "dataframe['country'].value_counts()"
      ],
      "execution_count": 19,
      "outputs": [
        {
          "output_type": "execute_result",
          "data": {
            "text/plain": [
              "US      188632\n",
              "GB       28897\n",
              "CA       12370\n",
              "AU        6616\n",
              "DE        3436\n",
              "FR        2520\n",
              "NL        2411\n",
              "IT        2369\n",
              "ES        1873\n",
              "SE        1509\n",
              "MX        1411\n",
              "NZ        1274\n",
              "DK         926\n",
              "IE         683\n",
              "CH         652\n",
              "NO         582\n",
              "BE         523\n",
              "AT         485\n",
              "HK         477\n",
              "SG         454\n",
              "N,0\"       210\n",
              "LU          57\n",
              "JP          23\n",
              "Name: country, dtype: int64"
            ]
          },
          "metadata": {},
          "execution_count": 19
        }
      ]
    },
    {
      "cell_type": "code",
      "metadata": {
        "colab": {
          "base_uri": "https://localhost:8080/",
          "height": 512
        },
        "id": "AYqcSklc-Lvy",
        "outputId": "c672b440-4012-474e-d6bd-2eeaf58565d1"
      },
      "source": [
        "# plot country distribution\n",
        "sns.catplot('country',data=dataframe, order = dataframe['country'].value_counts().index,kind='count', height=6,)"
      ],
      "execution_count": 20,
      "outputs": [
        {
          "output_type": "stream",
          "name": "stderr",
          "text": [
            "/usr/local/lib/python3.7/dist-packages/seaborn/_decorators.py:43: FutureWarning: Pass the following variable as a keyword arg: x. From version 0.12, the only valid positional argument will be `data`, and passing other arguments without an explicit keyword will result in an error or misinterpretation.\n",
            "  FutureWarning\n"
          ]
        },
        {
          "output_type": "execute_result",
          "data": {
            "text/plain": [
              "<seaborn.axisgrid.FacetGrid at 0x7f56adc5a250>"
            ]
          },
          "metadata": {},
          "execution_count": 20
        },
        {
          "output_type": "display_data",
          "data": {
            "image/png": "[encoded data removed]",
            "text/plain": [
              "<Figure size 432x432 with 1 Axes>"
            ]
          },
          "metadata": {
            "needs_background": "light"
          }
        }
      ]
    },
    {
      "cell_type": "code",
      "metadata": {
        "colab": {
          "base_uri": "https://localhost:8080/",
          "height": 423
        },
        "id": "3vB75tkK-NDY",
        "outputId": "f0012a10-41bd-4d14-b7fe-e33e8c5a5ae3"
      },
      "source": [
        "# now country/state distribution.\n",
        "sns.catplot(\"country\", hue=\"state\", kind=\"count\",edgecolor=\".6\", data=dataframe, order = dataframe['country'].value_counts().index);"
      ],
      "execution_count": 21,
      "outputs": [
        {
          "output_type": "stream",
          "name": "stderr",
          "text": [
            "/usr/local/lib/python3.7/dist-packages/seaborn/_decorators.py:43: FutureWarning: Pass the following variable as a keyword arg: x. From version 0.12, the only valid positional argument will be `data`, and passing other arguments without an explicit keyword will result in an error or misinterpretation.\n",
            "  FutureWarning\n"
          ]
        },
        {
          "output_type": "display_data",
          "data": {
            "image/png": "[encoded data removed]",
            "text/plain": [
              "<Figure size 448.125x360 with 1 Axes>"
            ]
          },
          "metadata": {
            "needs_background": "light"
          }
        }
      ]
    },
    {
      "cell_type": "code",
      "metadata": {
        "colab": {
          "base_uri": "https://localhost:8080/"
        },
        "id": "LX51aQw8-OgV",
        "outputId": "ccff9e4e-9827-458d-b64f-b5c5d6f2aa78"
      },
      "source": [
        "# checking which columns has null values\n",
        "dataframe.isnull().sum()"
      ],
      "execution_count": 22,
      "outputs": [
        {
          "output_type": "execute_result",
          "data": {
            "text/plain": [
              "ID                    0\n",
              "name                  0\n",
              "category              0\n",
              "main_category         0\n",
              "currency              0\n",
              "deadline              0\n",
              "goal                  0\n",
              "launched              0\n",
              "pledged               0\n",
              "state                 0\n",
              "backers               0\n",
              "country               0\n",
              "usd pledged         210\n",
              "usd_pledged_real      0\n",
              "usd_goal_real         0\n",
              "dtype: int64"
            ]
          },
          "metadata": {},
          "execution_count": 22
        }
      ]
    },
    {
      "cell_type": "code",
      "metadata": {
        "colab": {
          "base_uri": "https://localhost:8080/",
          "height": 204
        },
        "id": "J6_tCcQz-QlH",
        "outputId": "bd4fca9d-e7b7-4888-e433-2648d1655f43"
      },
      "source": [
        "# we can see that usd_pledged are the only column that has null values\n",
        "# we will drop this column and so all columns that is known just after project is launched like\n",
        "# pledged, backers, usd_pledged_real\n",
        "# name, ID also are not influcing the machine learning process , so i will delete it as well.\n",
        "dataframe = dataframe.drop(['ID', 'name', 'usd pledged', 'pledged', 'backers', 'usd_pledged_real'], axis=1)\n",
        "\n",
        "# the dataframe now \n",
        "dataframe.head()"
      ],
      "execution_count": 23,
      "outputs": [
        {
          "output_type": "execute_result",
          "data": {
            "text/html": [
              "<div>\n",
              "<style scoped>\n",
              "    .dataframe tbody tr th:only-of-type {\n",
              "        vertical-align: middle;\n",
              "    }\n",
              "\n",
              "    .dataframe tbody tr th {\n",
              "        vertical-align: top;\n",
              "    }\n",
              "\n",
              "    .dataframe thead th {\n",
              "        text-align: right;\n",
              "    }\n",
              "</style>\n",
              "<table border=\"1\" class=\"dataframe\">\n",
              "  <thead>\n",
              "    <tr style=\"text-align: right;\">\n",
              "      <th></th>\n",
              "      <th>category</th>\n",
              "      <th>main_category</th>\n",
              "      <th>currency</th>\n",
              "      <th>deadline</th>\n",
              "      <th>goal</th>\n",
              "      <th>launched</th>\n",
              "      <th>state</th>\n",
              "      <th>country</th>\n",
              "      <th>usd_goal_real</th>\n",
              "    </tr>\n",
              "  </thead>\n",
              "  <tbody>\n",
              "    <tr>\n",
              "      <th>0</th>\n",
              "      <td>Poetry</td>\n",
              "      <td>Publishing</td>\n",
              "      <td>GBP</td>\n",
              "      <td>2015-10-09</td>\n",
              "      <td>1000.0</td>\n",
              "      <td>2015-08-11 12:12:28</td>\n",
              "      <td>failed</td>\n",
              "      <td>GB</td>\n",
              "      <td>1533.95</td>\n",
              "    </tr>\n",
              "    <tr>\n",
              "      <th>1</th>\n",
              "      <td>Narrative Film</td>\n",
              "      <td>Film &amp; Video</td>\n",
              "      <td>USD</td>\n",
              "      <td>2017-11-01</td>\n",
              "      <td>30000.0</td>\n",
              "      <td>2017-09-02 04:43:57</td>\n",
              "      <td>failed</td>\n",
              "      <td>US</td>\n",
              "      <td>30000.00</td>\n",
              "    </tr>\n",
              "    <tr>\n",
              "      <th>2</th>\n",
              "      <td>Narrative Film</td>\n",
              "      <td>Film &amp; Video</td>\n",
              "      <td>USD</td>\n",
              "      <td>2013-02-26</td>\n",
              "      <td>45000.0</td>\n",
              "      <td>2013-01-12 00:20:50</td>\n",
              "      <td>failed</td>\n",
              "      <td>US</td>\n",
              "      <td>45000.00</td>\n",
              "    </tr>\n",
              "    <tr>\n",
              "      <th>5</th>\n",
              "      <td>Restaurants</td>\n",
              "      <td>Food</td>\n",
              "      <td>USD</td>\n",
              "      <td>2016-04-01</td>\n",
              "      <td>50000.0</td>\n",
              "      <td>2016-02-26 13:38:27</td>\n",
              "      <td>successful</td>\n",
              "      <td>US</td>\n",
              "      <td>50000.00</td>\n",
              "    </tr>\n",
              "    <tr>\n",
              "      <th>6</th>\n",
              "      <td>Food</td>\n",
              "      <td>Food</td>\n",
              "      <td>USD</td>\n",
              "      <td>2014-12-21</td>\n",
              "      <td>1000.0</td>\n",
              "      <td>2014-12-01 18:30:44</td>\n",
              "      <td>successful</td>\n",
              "      <td>US</td>\n",
              "      <td>1000.00</td>\n",
              "    </tr>\n",
              "  </tbody>\n",
              "</table>\n",
              "</div>"
            ],
            "text/plain": [
              "         category main_category currency  ...       state  country usd_goal_real\n",
              "0          Poetry    Publishing      GBP  ...      failed       GB       1533.95\n",
              "1  Narrative Film  Film & Video      USD  ...      failed       US      30000.00\n",
              "2  Narrative Film  Film & Video      USD  ...      failed       US      45000.00\n",
              "5     Restaurants          Food      USD  ...  successful       US      50000.00\n",
              "6            Food          Food      USD  ...  successful       US       1000.00\n",
              "\n",
              "[5 rows x 9 columns]"
            ]
          },
          "metadata": {},
          "execution_count": 23
        }
      ]
    },
    {
      "cell_type": "code",
      "metadata": {
        "id": "OrQTaViI-Spk"
      },
      "source": [
        "# encode string values to integers for the macheine learning purpose\n",
        "countryTransformer = preprocessing.LabelEncoder()\n",
        "currencyTransformer = preprocessing.LabelEncoder()\n",
        "main_categoryTransformer = preprocessing.LabelEncoder()\n",
        "categoryTransformer = preprocessing.LabelEncoder()\n",
        "dataframe['country'] = countryTransformer.fit_transform(dataframe['country'])\n",
        "dataframe['currency'] = currencyTransformer.fit_transform(dataframe['currency'])\n",
        "dataframe['main_category'] = main_categoryTransformer.fit_transform(dataframe['main_category'])\n",
        "dataframe['category'] = categoryTransformer.fit_transform(dataframe['category'])"
      ],
      "execution_count": 24,
      "outputs": []
    },
    {
      "cell_type": "code",
      "metadata": {
        "id": "cu3H-bmy-YWg"
      },
      "source": [
        "# convert dates to Unix time in nano seconds\n",
        "dataframe[\"launched\"] = pd.to_datetime(dataframe[\"launched\"])\n",
        "dataframe[\"deadline\"] = pd.to_datetime(dataframe[\"deadline\"])"
      ],
      "execution_count": 25,
      "outputs": []
    },
    {
      "cell_type": "code",
      "metadata": {
        "id": "LoAi2MTf-Zrt"
      },
      "source": [
        "# and now i will add a new feature based on deadline and launched\n",
        "# project_length will be deadline - launched\n",
        "dataframe[\"project_length\"] = dataframe[\"deadline\"] - dataframe[\"launched\"]\n",
        "\n",
        "# and now there is no need for deadline and launched\n",
        "dataframe = dataframe.drop(['deadline', 'launched'], axis=1)\n",
        "\n",
        "dataframe[\"project_length\"] = dataframe.project_length.values.astype(np.int64)\n",
        "dataframe.head()\n",
        "\n",
        "# X is the dataframe without the state column\n",
        "X = dataframe.drop('state', axis=1)\n",
        "# Y is the state column\n",
        "Y = dataframe['state']"
      ],
      "execution_count": 26,
      "outputs": []
    },
    {
      "cell_type": "code",
      "metadata": {
        "colab": {
          "base_uri": "https://localhost:8080/"
        },
        "id": "6qJpxOeW-ev5",
        "outputId": "6ec90095-b7c2-43d6-9098-09492ccfe706"
      },
      "source": [
        "# here we are splitting the data into 80% and 20%\n",
        "# 80% is for the model training X_train, Y_train\n",
        "# 20% is for the model testing X_test, Y_test\n",
        "# we will predict the state of X_test and compare it to the real data Y_test\n",
        "X_train, X_test, Y_train, Y_test = train_test_split(X, Y, test_size=0.2)\n",
        "\n",
        "# now let us check multiplue classification machine learning models\n",
        "\n",
        "\n",
        "# prepare models\n",
        "classifiers = [\n",
        "    DecisionTreeClassifier(),\n",
        "    GradientBoostingClassifier(),\n",
        "    KNeighborsClassifier(),\n",
        "    RandomForestClassifier(),\n",
        "    GaussianNB()\n",
        "]\n",
        "\n",
        "# evaluate one by one to check who is the most accuracte \n",
        "for clf in classifiers:\n",
        "    clf.fit(X_train, Y_train)\n",
        "    \n",
        "    print(\"=\"*30)\n",
        "    print(clf.__class__.__name__)    \n",
        "    \n",
        "    prediction = clf.predict(X_test)\n",
        "    acc = accuracy_score(Y_test, prediction)\n",
        "    \n",
        "    print(\"Accuracy: {:.2%}\".format(acc))\n",
        "\n",
        "print(\"=\"*30)\n",
        "print('Finish')"
      ],
      "execution_count": 27,
      "outputs": [
        {
          "output_type": "stream",
          "name": "stdout",
          "text": [
            "==============================\n",
            "DecisionTreeClassifier\n",
            "Accuracy: 61.57%\n",
            "==============================\n",
            "GradientBoostingClassifier\n",
            "Accuracy: 68.72%\n",
            "==============================\n",
            "KNeighborsClassifier\n",
            "Accuracy: 58.85%\n",
            "==============================\n",
            "RandomForestClassifier\n",
            "Accuracy: 65.88%\n",
            "==============================\n",
            "GaussianNB\n",
            "Accuracy: 61.81%\n",
            "==============================\n",
            "Finish\n"
          ]
        }
      ]
    },
    {
      "cell_type": "code",
      "metadata": {
        "colab": {
          "base_uri": "https://localhost:8080/"
        },
        "id": "zL0Rl4n1-uSs",
        "outputId": "5fbcbb04-c9ef-4c6c-ad62-7266346be250"
      },
      "source": [
        "# we can see that GradientBoostingClassifier is the most accurist model\n",
        "# so lets perform fine tuning on the learning_rate attribute of the model\n",
        "learning_rates = [1, 0.7, 0.5, 0.25, 0.1, 0.01]\n",
        "for lrn in learning_rates:\n",
        "    clf = GradientBoostingClassifier(learning_rate=lrn)\n",
        "    clf.fit(X_train, Y_train)\n",
        "    print(\"=\"*30)\n",
        "    print(lrn)\n",
        "    prediction = clf.predict(X_test)\n",
        "    acc = accuracy_score(Y_test, prediction)\n",
        "    print(\"Accuracy: {:.2%}\".format(acc))\n",
        "    \n",
        "print(\"=\"*30)\n",
        "print('Finish')"
      ],
      "execution_count": 28,
      "outputs": [
        {
          "output_type": "stream",
          "name": "stdout",
          "text": [
            "==============================\n",
            "1\n",
            "Accuracy: 69.95%\n",
            "==============================\n",
            "0.7\n",
            "Accuracy: 70.00%\n",
            "==============================\n",
            "0.5\n",
            "Accuracy: 69.97%\n",
            "==============================\n",
            "0.25\n",
            "Accuracy: 69.73%\n",
            "==============================\n",
            "0.1\n",
            "Accuracy: 68.72%\n",
            "==============================\n",
            "0.01\n",
            "Accuracy: 62.95%\n",
            "==============================\n",
            "Finish\n"
          ]
        }
      ]
    },
    {
      "cell_type": "code",
      "metadata": {
        "colab": {
          "base_uri": "https://localhost:8080/"
        },
        "id": "L7v2LcJs-zsf",
        "outputId": "086d1ca3-1028-4193-b6b0-ef10753eca50"
      },
      "source": [
        "# we will use the best performance learning rate\n",
        "# in fact, we can get more accuracy if we have more informative data features.\n",
        " \n",
        "clf = GradientBoostingClassifier(learning_rate=0.7)\n",
        "clf.fit(X_train, Y_train)\n",
        "print('****Results****')\n",
        "prediction = clf.predict(X_test)\n",
        "acc = accuracy_score(Y_test, prediction)\n",
        "print(\"Accuracy: {:.2%}\".format(acc))"
      ],
      "execution_count": 29,
      "outputs": [
        {
          "output_type": "stream",
          "name": "stdout",
          "text": [
            "****Results****\n",
            "Accuracy: 70.00%\n"
          ]
        }
      ]
    },
    {
      "cell_type": "code",
      "metadata": {
        "colab": {
          "base_uri": "https://localhost:8080/"
        },
        "id": "mgogRujT-9XV",
        "outputId": "a7331847-c588-4840-ef43-311926db7e57"
      },
      "source": [
        "# comparing prediction to true data\n",
        "np.column_stack((prediction,Y_test))"
      ],
      "execution_count": 30,
      "outputs": [
        {
          "output_type": "execute_result",
          "data": {
            "text/plain": [
              "array([['successful', 'successful'],\n",
              "       ['failed', 'failed'],\n",
              "       ['failed', 'failed'],\n",
              "       ...,\n",
              "       ['failed', 'failed'],\n",
              "       ['failed', 'failed'],\n",
              "       ['successful', 'successful']], dtype=object)"
            ]
          },
          "metadata": {},
          "execution_count": 30
        }
      ]
    },
    {
      "cell_type": "code",
      "metadata": {
        "colab": {
          "base_uri": "https://localhost:8080/",
          "height": 332
        },
        "id": "MHSCqiEP-_H7",
        "outputId": "61547413-75f9-42f4-efa9-7fcd48c97049"
      },
      "source": [
        "# let us see the feature importance order of the predition model.\n",
        "feats = {}\n",
        "for feature, importance in zip(X_train.columns, clf.feature_importances_):\n",
        "    feats[feature] = importance #add the name/value pair \n",
        "\n",
        "importances = pd.DataFrame.from_dict(feats, orient='index').rename(columns={0: 'Feature-importance'})\n",
        "importances.sort_values(by='Feature-importance').plot(kind='bar', rot=45)"
      ],
      "execution_count": 34,
      "outputs": [
        {
          "output_type": "execute_result",
          "data": {
            "text/plain": [
              "<matplotlib.axes._subplots.AxesSubplot at 0x7f56aa933c90>"
            ]
          },
          "metadata": {},
          "execution_count": 34
        },
        {
          "output_type": "display_data",
          "data": {
            "image/png": "[encoded data removed]",
            "text/plain": [
              "<Figure size 432x288 with 1 Axes>"
            ]
          },
          "metadata": {
            "needs_background": "light"
          }
        }
      ]
    },
    {
      "cell_type": "code",
      "metadata": {
        "colab": {
          "base_uri": "https://localhost:8080/",
          "height": 80
        },
        "id": "7YEP2e3ACRHL",
        "outputId": "f85818b0-5b9c-40c6-a6dc-e424ab042668"
      },
      "source": [
        "futureData = pd.DataFrame(columns=['category', 'main_category', 'currency', 'deadline', 'goal', 'launched', 'country', 'usd_goal_real'])\n",
        "futureData.loc[0] = ['Restaurants', 'Food', 'USD', '2019-07-30', '60000.0', '2019-04-01 12:00:00','US', '60000.00']\n",
        "\n",
        "futureData.head()"
      ],
      "execution_count": 35,
      "outputs": [
        {
          "output_type": "execute_result",
          "data": {
            "text/html": [
              "<div>\n",
              "<style scoped>\n",
              "    .dataframe tbody tr th:only-of-type {\n",
              "        vertical-align: middle;\n",
              "    }\n",
              "\n",
              "    .dataframe tbody tr th {\n",
              "        vertical-align: top;\n",
              "    }\n",
              "\n",
              "    .dataframe thead th {\n",
              "        text-align: right;\n",
              "    }\n",
              "</style>\n",
              "<table border=\"1\" class=\"dataframe\">\n",
              "  <thead>\n",
              "    <tr style=\"text-align: right;\">\n",
              "      <th></th>\n",
              "      <th>category</th>\n",
              "      <th>main_category</th>\n",
              "      <th>currency</th>\n",
              "      <th>deadline</th>\n",
              "      <th>goal</th>\n",
              "      <th>launched</th>\n",
              "      <th>country</th>\n",
              "      <th>usd_goal_real</th>\n",
              "    </tr>\n",
              "  </thead>\n",
              "  <tbody>\n",
              "    <tr>\n",
              "      <th>0</th>\n",
              "      <td>Restaurants</td>\n",
              "      <td>Food</td>\n",
              "      <td>USD</td>\n",
              "      <td>2019-07-30</td>\n",
              "      <td>60000.0</td>\n",
              "      <td>2019-04-01 12:00:00</td>\n",
              "      <td>US</td>\n",
              "      <td>60000.00</td>\n",
              "    </tr>\n",
              "  </tbody>\n",
              "</table>\n",
              "</div>"
            ],
            "text/plain": [
              "      category main_category  ... country usd_goal_real\n",
              "0  Restaurants          Food  ...      US      60000.00\n",
              "\n",
              "[1 rows x 8 columns]"
            ]
          },
          "metadata": {},
          "execution_count": 35
        }
      ]
    },
    {
      "cell_type": "code",
      "metadata": {
        "colab": {
          "base_uri": "https://localhost:8080/",
          "height": 80
        },
        "id": "0Mg3uNEo_Ens",
        "outputId": "dc708a31-e20a-4fbf-e38a-7d3d21c7a96a"
      },
      "source": [
        "futureData['country'] = countryTransformer.transform(futureData['country'])\n",
        "futureData['currency'] = currencyTransformer.transform(futureData['currency'])\n",
        "futureData['main_category'] = main_categoryTransformer.transform(futureData['main_category'])\n",
        "futureData['category'] = categoryTransformer.transform(futureData['category'])\n",
        "\n",
        "futureData[\"launched\"] = pd.to_datetime(futureData[\"launched\"])\n",
        "futureData[\"deadline\"] = pd.to_datetime(futureData[\"deadline\"])\n",
        "futureData[\"deadline\"] =  futureData.deadline.values.astype(np.int64)\n",
        "futureData[\"launched\"] =  futureData.launched.values.astype(np.int64)\n",
        "\n",
        "futureData[\"project_length\"] = futureData[\"deadline\"] - futureData[\"launched\"]\n",
        "futureData = futureData.drop(['deadline', 'launched'], axis=1)\n",
        "\n",
        "futureData.head()"
      ],
      "execution_count": 36,
      "outputs": [
        {
          "output_type": "execute_result",
          "data": {
            "text/html": [
              "<div>\n",
              "<style scoped>\n",
              "    .dataframe tbody tr th:only-of-type {\n",
              "        vertical-align: middle;\n",
              "    }\n",
              "\n",
              "    .dataframe tbody tr th {\n",
              "        vertical-align: top;\n",
              "    }\n",
              "\n",
              "    .dataframe thead th {\n",
              "        text-align: right;\n",
              "    }\n",
              "</style>\n",
              "<table border=\"1\" class=\"dataframe\">\n",
              "  <thead>\n",
              "    <tr style=\"text-align: right;\">\n",
              "      <th></th>\n",
              "      <th>category</th>\n",
              "      <th>main_category</th>\n",
              "      <th>currency</th>\n",
              "      <th>goal</th>\n",
              "      <th>country</th>\n",
              "      <th>usd_goal_real</th>\n",
              "      <th>project_length</th>\n",
              "    </tr>\n",
              "  </thead>\n",
              "  <tbody>\n",
              "    <tr>\n",
              "      <th>0</th>\n",
              "      <td>123</td>\n",
              "      <td>7</td>\n",
              "      <td>13</td>\n",
              "      <td>60000.0</td>\n",
              "      <td>22</td>\n",
              "      <td>60000.00</td>\n",
              "      <td>10324800000000000</td>\n",
              "    </tr>\n",
              "  </tbody>\n",
              "</table>\n",
              "</div>"
            ],
            "text/plain": [
              "   category  main_category  currency  ... country  usd_goal_real     project_length\n",
              "0       123              7        13  ...      22       60000.00  10324800000000000\n",
              "\n",
              "[1 rows x 7 columns]"
            ]
          },
          "metadata": {},
          "execution_count": 36
        }
      ]
    },
    {
      "cell_type": "code",
      "metadata": {
        "colab": {
          "base_uri": "https://localhost:8080/"
        },
        "id": "nUHTwqvL_Irr",
        "outputId": "1cfc968c-8039-4f03-8299-3b82069324ab"
      },
      "source": [
        "prediction = clf.predict(futureData)\n",
        "prediction"
      ],
      "execution_count": 37,
      "outputs": [
        {
          "output_type": "execute_result",
          "data": {
            "text/plain": [
              "array(['successful'], dtype=object)"
            ]
          },
          "metadata": {},
          "execution_count": 37
        }
      ]
    }
  ]
}